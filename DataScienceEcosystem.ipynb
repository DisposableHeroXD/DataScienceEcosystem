{
 "cells": [
  {
   "cell_type": "markdown",
   "id": "02c3e856-2f21-497c-a769-e1b6cd444928",
   "metadata": {},
   "source": [
    "# Data Science Tools and Ecosystem"
   ]
  },
  {
   "cell_type": "markdown",
   "id": "c8fb4584-d171-4466-ab16-1df21912ca11",
   "metadata": {},
   "source": [
    "In this notebook, Data Science Tools and Ecosystem are summarized."
   ]
  },
  {
   "cell_type": "markdown",
   "id": "7778a370-0376-419f-a50a-627fec376c52",
   "metadata": {},
   "source": [
    "**Objectives:**\n",
    "+ List of popular languages used in Data Science.\n",
    "+ Common libraries used in Data Science.\n",
    "+ Data Science Tools."
   ]
  },
  {
   "cell_type": "markdown",
   "id": "e89961ab-d97a-40f3-b2fd-aa928af11848",
   "metadata": {},
   "source": [
    "Some of the popular languages that Data Scientists use are:\n",
    "\n",
    "1. Python\n",
    "2. R\n",
    "3. Julia\n",
    "4. SQL\n"
   ]
  },
  {
   "cell_type": "markdown",
   "id": "3f242dce-e4f4-4eb1-949f-55403b904954",
   "metadata": {},
   "source": [
    "Some of the commonly used libraries used by Data Scientists include:\n",
    "\n",
    "+ NumPy\n",
    "+ Pandas\n",
    "+ Matplotlib\n",
    "+ Scikit-learn"
   ]
  },
  {
   "cell_type": "markdown",
   "id": "88bfec6a-f85d-4f0e-88fb-5f67ef9f18e7",
   "metadata": {},
   "source": [
    "| Data Science Tools |\n",
    "|--------------------|\n",
    "| Jupyter Notebook   |\n",
    "|     Docker         |\n",
    "| Git                |"
   ]
  },
  {
   "cell_type": "markdown",
   "id": "0fc445d7-f4bb-4907-9854-6d641a96839c",
   "metadata": {},
   "source": [
    "### Below are a few examples of evaluating arithmetic expressions in Python"
   ]
  },
  {
   "cell_type": "code",
   "execution_count": 4,
   "id": "eb87ba8b-7718-4196-a88e-794aa76e1148",
   "metadata": {},
   "outputs": [
    {
     "name": "stdout",
     "output_type": "stream",
     "text": [
      "17\n"
     ]
    }
   ],
   "source": [
    "# This a simple arithmetic expression to mutiply then add integers\n",
    "print((3*4)+5)"
   ]
  },
  {
   "cell_type": "code",
   "execution_count": 5,
   "id": "2d33f24f-4cbc-46b6-8c81-8cac6dccd7f3",
   "metadata": {},
   "outputs": [
    {
     "name": "stdout",
     "output_type": "stream",
     "text": [
      "3.3333333333333335\n"
     ]
    }
   ],
   "source": [
    "# This will convert 200 minutes to hours by diving by 60\n",
    "print(200/60)"
   ]
  },
  {
   "cell_type": "markdown",
   "id": "e88576b0-9de7-4d82-ab33-d7bf717fdcb3",
   "metadata": {},
   "source": [
    "## Author\n",
    "Name: Anirudha Goswami"
   ]
  },
  {
   "cell_type": "code",
   "execution_count": null,
   "id": "e752f0f2-edd5-40d2-add4-3c48e507dc34",
   "metadata": {},
   "outputs": [],
   "source": []
  }
 ],
 "metadata": {
  "kernelspec": {
   "display_name": "Python",
   "language": "python",
   "name": "conda-env-python-py"
  },
  "language_info": {
   "codemirror_mode": {
    "name": "ipython",
    "version": 3
   },
   "file_extension": ".py",
   "mimetype": "text/x-python",
   "name": "python",
   "nbconvert_exporter": "python",
   "pygments_lexer": "ipython3",
   "version": "3.7.12"
  }
 },
 "nbformat": 4,
 "nbformat_minor": 5
}
